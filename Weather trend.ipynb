{
 "cells": [
  {
   "cell_type": "markdown",
   "metadata": {},
   "source": [
    "Since I lived in Boston and it's very close to my heart, I looked for it in the dataset and luckily found it\n",
    "\n",
    "\n",
    "Query used to find the country name -\n",
    "\n",
    "`Select *\n",
    "from city_list`\n",
    "\n",
    "Query used to find the city name in United States - \n",
    "\n",
    "`Select distinct city \n",
    "from city_list \n",
    "where country = 'United States'\n",
    "order by city`\n",
    "\n",
    "Query used to extract data about Boston - \n",
    "\n",
    "`Select * \n",
    "from city_data\n",
    "where city = 'Boston' `\n",
    "\n",
    "Query used to extract global data -\n",
    "\n",
    "`Select *\n",
    "from global_data`"
   ]
  },
  {
   "cell_type": "code",
   "execution_count": 1,
   "metadata": {},
   "outputs": [],
   "source": [
    "#import numpy and pandas\n",
    "import numpy as np\n",
    "import pandas as pd"
   ]
  },
  {
   "cell_type": "code",
   "execution_count": 2,
   "metadata": {},
   "outputs": [],
   "source": [
    "#read the dataset downloaded for Boston\n",
    "boston_data = pd.read_csv('Boston.csv')"
   ]
  },
  {
   "cell_type": "code",
   "execution_count": 3,
   "metadata": {},
   "outputs": [],
   "source": [
    "#read the dataset downloaded for global temperature average\n",
    "global_data = pd.read_csv('Global data.csv')"
   ]
  },
  {
   "cell_type": "code",
   "execution_count": 4,
   "metadata": {
    "scrolled": true
   },
   "outputs": [
    {
     "data": {
      "text/html": [
       "<div>\n",
       "<style scoped>\n",
       "    .dataframe tbody tr th:only-of-type {\n",
       "        vertical-align: middle;\n",
       "    }\n",
       "\n",
       "    .dataframe tbody tr th {\n",
       "        vertical-align: top;\n",
       "    }\n",
       "\n",
       "    .dataframe thead th {\n",
       "        text-align: right;\n",
       "    }\n",
       "</style>\n",
       "<table border=\"1\" class=\"dataframe\">\n",
       "  <thead>\n",
       "    <tr style=\"text-align: right;\">\n",
       "      <th></th>\n",
       "      <th>year</th>\n",
       "      <th>city</th>\n",
       "      <th>country</th>\n",
       "      <th>avg_temp</th>\n",
       "    </tr>\n",
       "  </thead>\n",
       "  <tbody>\n",
       "    <tr>\n",
       "      <th>0</th>\n",
       "      <td>1743</td>\n",
       "      <td>Boston</td>\n",
       "      <td>United States</td>\n",
       "      <td>1.19</td>\n",
       "    </tr>\n",
       "    <tr>\n",
       "      <th>1</th>\n",
       "      <td>1744</td>\n",
       "      <td>Boston</td>\n",
       "      <td>United States</td>\n",
       "      <td>9.63</td>\n",
       "    </tr>\n",
       "    <tr>\n",
       "      <th>2</th>\n",
       "      <td>1745</td>\n",
       "      <td>Boston</td>\n",
       "      <td>United States</td>\n",
       "      <td>-1.37</td>\n",
       "    </tr>\n",
       "    <tr>\n",
       "      <th>3</th>\n",
       "      <td>1746</td>\n",
       "      <td>Boston</td>\n",
       "      <td>United States</td>\n",
       "      <td>NaN</td>\n",
       "    </tr>\n",
       "    <tr>\n",
       "      <th>4</th>\n",
       "      <td>1747</td>\n",
       "      <td>Boston</td>\n",
       "      <td>United States</td>\n",
       "      <td>NaN</td>\n",
       "    </tr>\n",
       "  </tbody>\n",
       "</table>\n",
       "</div>"
      ],
      "text/plain": [
       "   year    city        country  avg_temp\n",
       "0  1743  Boston  United States      1.19\n",
       "1  1744  Boston  United States      9.63\n",
       "2  1745  Boston  United States     -1.37\n",
       "3  1746  Boston  United States       NaN\n",
       "4  1747  Boston  United States       NaN"
      ]
     },
     "execution_count": 4,
     "metadata": {},
     "output_type": "execute_result"
    }
   ],
   "source": [
    "boston_data.head()"
   ]
  },
  {
   "cell_type": "code",
   "execution_count": 5,
   "metadata": {},
   "outputs": [
    {
     "data": {
      "text/html": [
       "<div>\n",
       "<style scoped>\n",
       "    .dataframe tbody tr th:only-of-type {\n",
       "        vertical-align: middle;\n",
       "    }\n",
       "\n",
       "    .dataframe tbody tr th {\n",
       "        vertical-align: top;\n",
       "    }\n",
       "\n",
       "    .dataframe thead th {\n",
       "        text-align: right;\n",
       "    }\n",
       "</style>\n",
       "<table border=\"1\" class=\"dataframe\">\n",
       "  <thead>\n",
       "    <tr style=\"text-align: right;\">\n",
       "      <th></th>\n",
       "      <th>year</th>\n",
       "      <th>avg_temp</th>\n",
       "    </tr>\n",
       "  </thead>\n",
       "  <tbody>\n",
       "    <tr>\n",
       "      <th>0</th>\n",
       "      <td>1750</td>\n",
       "      <td>8.72</td>\n",
       "    </tr>\n",
       "    <tr>\n",
       "      <th>1</th>\n",
       "      <td>1751</td>\n",
       "      <td>7.98</td>\n",
       "    </tr>\n",
       "    <tr>\n",
       "      <th>2</th>\n",
       "      <td>1752</td>\n",
       "      <td>5.78</td>\n",
       "    </tr>\n",
       "    <tr>\n",
       "      <th>3</th>\n",
       "      <td>1753</td>\n",
       "      <td>8.39</td>\n",
       "    </tr>\n",
       "    <tr>\n",
       "      <th>4</th>\n",
       "      <td>1754</td>\n",
       "      <td>8.47</td>\n",
       "    </tr>\n",
       "  </tbody>\n",
       "</table>\n",
       "</div>"
      ],
      "text/plain": [
       "   year  avg_temp\n",
       "0  1750      8.72\n",
       "1  1751      7.98\n",
       "2  1752      5.78\n",
       "3  1753      8.39\n",
       "4  1754      8.47"
      ]
     },
     "execution_count": 5,
     "metadata": {},
     "output_type": "execute_result"
    }
   ],
   "source": [
    "global_data.head()"
   ]
  },
  {
   "cell_type": "code",
   "execution_count": 6,
   "metadata": {},
   "outputs": [
    {
     "data": {
      "text/plain": [
       "year        0\n",
       "city        0\n",
       "country     0\n",
       "avg_temp    5\n",
       "dtype: int64"
      ]
     },
     "execution_count": 6,
     "metadata": {},
     "output_type": "execute_result"
    }
   ],
   "source": [
    "#Counting null values in the dataframes\n",
    "boston_data.isna().sum()"
   ]
  },
  {
   "cell_type": "code",
   "execution_count": 7,
   "metadata": {},
   "outputs": [
    {
     "data": {
      "text/plain": [
       "year        0\n",
       "avg_temp    0\n",
       "dtype: int64"
      ]
     },
     "execution_count": 7,
     "metadata": {},
     "output_type": "execute_result"
    }
   ],
   "source": [
    "#Counting null values in the dataframes\n",
    "global_data.isna().sum()"
   ]
  },
  {
   "cell_type": "code",
   "execution_count": 8,
   "metadata": {},
   "outputs": [
    {
     "data": {
      "text/plain": [
       "year                 2013\n",
       "city               Boston\n",
       "country     United States\n",
       "avg_temp            10.38\n",
       "dtype: object"
      ]
     },
     "execution_count": 8,
     "metadata": {},
     "output_type": "execute_result"
    }
   ],
   "source": [
    "#max and min for each column in the dataset\n",
    "boston_data.max()"
   ]
  },
  {
   "cell_type": "code",
   "execution_count": 9,
   "metadata": {},
   "outputs": [
    {
     "data": {
      "text/plain": [
       "year                 1743\n",
       "city               Boston\n",
       "country     United States\n",
       "avg_temp            -2.31\n",
       "dtype: object"
      ]
     },
     "execution_count": 9,
     "metadata": {},
     "output_type": "execute_result"
    }
   ],
   "source": [
    "boston_data.min()"
   ]
  },
  {
   "cell_type": "code",
   "execution_count": 10,
   "metadata": {},
   "outputs": [
    {
     "data": {
      "text/plain": [
       "year        2015.00\n",
       "avg_temp       9.83\n",
       "dtype: float64"
      ]
     },
     "execution_count": 10,
     "metadata": {},
     "output_type": "execute_result"
    }
   ],
   "source": [
    "#max and min for each column in the dataset\n",
    "global_data.max()"
   ]
  },
  {
   "cell_type": "code",
   "execution_count": 11,
   "metadata": {},
   "outputs": [
    {
     "data": {
      "text/plain": [
       "year        1750.00\n",
       "avg_temp       5.78\n",
       "dtype: float64"
      ]
     },
     "execution_count": 11,
     "metadata": {},
     "output_type": "execute_result"
    }
   ],
   "source": [
    "global_data.min()"
   ]
  },
  {
   "cell_type": "code",
   "execution_count": 12,
   "metadata": {},
   "outputs": [],
   "source": [
    "#There are null values in the boston dataset, replacing those values with average value \n",
    "from statistics import mode\n",
    "boston_data['avg_temp'] = boston_data['avg_temp'].fillna((boston_data['avg_temp'].mean()))\n",
    "boston_data['avg_temp'] = boston_data['avg_temp'].round(2)"
   ]
  },
  {
   "cell_type": "code",
   "execution_count": 13,
   "metadata": {},
   "outputs": [],
   "source": [
    "#join the two datasets on year\n",
    "data = pd.merge(global_data, boston_data, on='year')"
   ]
  },
  {
   "cell_type": "code",
   "execution_count": 14,
   "metadata": {},
   "outputs": [
    {
     "data": {
      "text/html": [
       "<div>\n",
       "<style scoped>\n",
       "    .dataframe tbody tr th:only-of-type {\n",
       "        vertical-align: middle;\n",
       "    }\n",
       "\n",
       "    .dataframe tbody tr th {\n",
       "        vertical-align: top;\n",
       "    }\n",
       "\n",
       "    .dataframe thead th {\n",
       "        text-align: right;\n",
       "    }\n",
       "</style>\n",
       "<table border=\"1\" class=\"dataframe\">\n",
       "  <thead>\n",
       "    <tr style=\"text-align: right;\">\n",
       "      <th></th>\n",
       "      <th>year</th>\n",
       "      <th>avg_temp_x</th>\n",
       "      <th>city</th>\n",
       "      <th>country</th>\n",
       "      <th>avg_temp_y</th>\n",
       "    </tr>\n",
       "  </thead>\n",
       "  <tbody>\n",
       "    <tr>\n",
       "      <th>0</th>\n",
       "      <td>1750</td>\n",
       "      <td>8.72</td>\n",
       "      <td>Boston</td>\n",
       "      <td>United States</td>\n",
       "      <td>7.88</td>\n",
       "    </tr>\n",
       "    <tr>\n",
       "      <th>1</th>\n",
       "      <td>1751</td>\n",
       "      <td>7.98</td>\n",
       "      <td>Boston</td>\n",
       "      <td>United States</td>\n",
       "      <td>8.60</td>\n",
       "    </tr>\n",
       "    <tr>\n",
       "      <th>2</th>\n",
       "      <td>1752</td>\n",
       "      <td>5.78</td>\n",
       "      <td>Boston</td>\n",
       "      <td>United States</td>\n",
       "      <td>0.36</td>\n",
       "    </tr>\n",
       "    <tr>\n",
       "      <th>3</th>\n",
       "      <td>1753</td>\n",
       "      <td>8.39</td>\n",
       "      <td>Boston</td>\n",
       "      <td>United States</td>\n",
       "      <td>7.35</td>\n",
       "    </tr>\n",
       "    <tr>\n",
       "      <th>4</th>\n",
       "      <td>1754</td>\n",
       "      <td>8.47</td>\n",
       "      <td>Boston</td>\n",
       "      <td>United States</td>\n",
       "      <td>7.75</td>\n",
       "    </tr>\n",
       "  </tbody>\n",
       "</table>\n",
       "</div>"
      ],
      "text/plain": [
       "   year  avg_temp_x    city        country  avg_temp_y\n",
       "0  1750        8.72  Boston  United States        7.88\n",
       "1  1751        7.98  Boston  United States        8.60\n",
       "2  1752        5.78  Boston  United States        0.36\n",
       "3  1753        8.39  Boston  United States        7.35\n",
       "4  1754        8.47  Boston  United States        7.75"
      ]
     },
     "execution_count": 14,
     "metadata": {},
     "output_type": "execute_result"
    }
   ],
   "source": [
    "data.head()"
   ]
  },
  {
   "cell_type": "code",
   "execution_count": 15,
   "metadata": {},
   "outputs": [],
   "source": [
    "data = data.drop(['city', 'country'], axis=1)"
   ]
  },
  {
   "cell_type": "code",
   "execution_count": 16,
   "metadata": {},
   "outputs": [],
   "source": [
    "#rename column names\n",
    "data = data.rename(index=str, columns={'avg_temp_x': \"global_avg\", \"avg_temp_y\": \"boston_avg\"})"
   ]
  },
  {
   "cell_type": "code",
   "execution_count": 17,
   "metadata": {},
   "outputs": [
    {
     "data": {
      "text/html": [
       "<div>\n",
       "<style scoped>\n",
       "    .dataframe tbody tr th:only-of-type {\n",
       "        vertical-align: middle;\n",
       "    }\n",
       "\n",
       "    .dataframe tbody tr th {\n",
       "        vertical-align: top;\n",
       "    }\n",
       "\n",
       "    .dataframe thead th {\n",
       "        text-align: right;\n",
       "    }\n",
       "</style>\n",
       "<table border=\"1\" class=\"dataframe\">\n",
       "  <thead>\n",
       "    <tr style=\"text-align: right;\">\n",
       "      <th></th>\n",
       "      <th>year</th>\n",
       "      <th>global_avg</th>\n",
       "      <th>boston_avg</th>\n",
       "    </tr>\n",
       "  </thead>\n",
       "  <tbody>\n",
       "    <tr>\n",
       "      <th>0</th>\n",
       "      <td>1750</td>\n",
       "      <td>8.72</td>\n",
       "      <td>7.88</td>\n",
       "    </tr>\n",
       "    <tr>\n",
       "      <th>1</th>\n",
       "      <td>1751</td>\n",
       "      <td>7.98</td>\n",
       "      <td>8.60</td>\n",
       "    </tr>\n",
       "    <tr>\n",
       "      <th>2</th>\n",
       "      <td>1752</td>\n",
       "      <td>5.78</td>\n",
       "      <td>0.36</td>\n",
       "    </tr>\n",
       "    <tr>\n",
       "      <th>3</th>\n",
       "      <td>1753</td>\n",
       "      <td>8.39</td>\n",
       "      <td>7.35</td>\n",
       "    </tr>\n",
       "    <tr>\n",
       "      <th>4</th>\n",
       "      <td>1754</td>\n",
       "      <td>8.47</td>\n",
       "      <td>7.75</td>\n",
       "    </tr>\n",
       "  </tbody>\n",
       "</table>\n",
       "</div>"
      ],
      "text/plain": [
       "   year  global_avg  boston_avg\n",
       "0  1750        8.72        7.88\n",
       "1  1751        7.98        8.60\n",
       "2  1752        5.78        0.36\n",
       "3  1753        8.39        7.35\n",
       "4  1754        8.47        7.75"
      ]
     },
     "execution_count": 17,
     "metadata": {},
     "output_type": "execute_result"
    }
   ],
   "source": [
    "data.head()"
   ]
  },
  {
   "cell_type": "code",
   "execution_count": 18,
   "metadata": {},
   "outputs": [],
   "source": [
    "#average temperatures\n",
    "boston_avg_temp = data['boston_avg'].mean()\n",
    "global_avg_temp = data['global_avg'].mean()"
   ]
  },
  {
   "cell_type": "code",
   "execution_count": 19,
   "metadata": {},
   "outputs": [
    {
     "data": {
      "text/plain": [
       "7.3"
      ]
     },
     "execution_count": 19,
     "metadata": {},
     "output_type": "execute_result"
    }
   ],
   "source": [
    "#average boston temperature\n",
    "round(boston_avg_temp, 2)"
   ]
  },
  {
   "cell_type": "code",
   "execution_count": 20,
   "metadata": {},
   "outputs": [
    {
     "data": {
      "text/plain": [
       "8.36"
      ]
     },
     "execution_count": 20,
     "metadata": {},
     "output_type": "execute_result"
    }
   ],
   "source": [
    "#average global temperature\n",
    "round(global_avg_temp, 2)"
   ]
  },
  {
   "cell_type": "code",
   "execution_count": 21,
   "metadata": {},
   "outputs": [],
   "source": [
    "#use rolling mean to get the rolling mean of 10 years\n",
    "data['global_MA'] = data['global_avg'].rolling(50).mean()\n",
    "data['boston_MA'] = data['boston_avg'].rolling(50).mean()"
   ]
  },
  {
   "cell_type": "code",
   "execution_count": 22,
   "metadata": {},
   "outputs": [
    {
     "data": {
      "text/html": [
       "<div>\n",
       "<style scoped>\n",
       "    .dataframe tbody tr th:only-of-type {\n",
       "        vertical-align: middle;\n",
       "    }\n",
       "\n",
       "    .dataframe tbody tr th {\n",
       "        vertical-align: top;\n",
       "    }\n",
       "\n",
       "    .dataframe thead th {\n",
       "        text-align: right;\n",
       "    }\n",
       "</style>\n",
       "<table border=\"1\" class=\"dataframe\">\n",
       "  <thead>\n",
       "    <tr style=\"text-align: right;\">\n",
       "      <th></th>\n",
       "      <th>year</th>\n",
       "      <th>global_avg</th>\n",
       "      <th>boston_avg</th>\n",
       "      <th>global_MA</th>\n",
       "      <th>boston_MA</th>\n",
       "    </tr>\n",
       "  </thead>\n",
       "  <tbody>\n",
       "    <tr>\n",
       "      <th>0</th>\n",
       "      <td>1750</td>\n",
       "      <td>8.72</td>\n",
       "      <td>7.88</td>\n",
       "      <td>NaN</td>\n",
       "      <td>NaN</td>\n",
       "    </tr>\n",
       "    <tr>\n",
       "      <th>1</th>\n",
       "      <td>1751</td>\n",
       "      <td>7.98</td>\n",
       "      <td>8.60</td>\n",
       "      <td>NaN</td>\n",
       "      <td>NaN</td>\n",
       "    </tr>\n",
       "    <tr>\n",
       "      <th>2</th>\n",
       "      <td>1752</td>\n",
       "      <td>5.78</td>\n",
       "      <td>0.36</td>\n",
       "      <td>NaN</td>\n",
       "      <td>NaN</td>\n",
       "    </tr>\n",
       "    <tr>\n",
       "      <th>3</th>\n",
       "      <td>1753</td>\n",
       "      <td>8.39</td>\n",
       "      <td>7.35</td>\n",
       "      <td>NaN</td>\n",
       "      <td>NaN</td>\n",
       "    </tr>\n",
       "    <tr>\n",
       "      <th>4</th>\n",
       "      <td>1754</td>\n",
       "      <td>8.47</td>\n",
       "      <td>7.75</td>\n",
       "      <td>NaN</td>\n",
       "      <td>NaN</td>\n",
       "    </tr>\n",
       "  </tbody>\n",
       "</table>\n",
       "</div>"
      ],
      "text/plain": [
       "   year  global_avg  boston_avg  global_MA  boston_MA\n",
       "0  1750        8.72        7.88        NaN        NaN\n",
       "1  1751        7.98        8.60        NaN        NaN\n",
       "2  1752        5.78        0.36        NaN        NaN\n",
       "3  1753        8.39        7.35        NaN        NaN\n",
       "4  1754        8.47        7.75        NaN        NaN"
      ]
     },
     "execution_count": 22,
     "metadata": {},
     "output_type": "execute_result"
    }
   ],
   "source": [
    "data.head()"
   ]
  },
  {
   "cell_type": "code",
   "execution_count": 23,
   "metadata": {},
   "outputs": [],
   "source": [
    "#15 warmest years wrt avg temperature\n",
    "boston_top15 = data.nlargest(15, 'boston_avg')\n",
    "global_top15 = data.nlargest(15, 'global_avg')\n",
    "global_boston_top15 = data.nlargest(15, ('global_avg', 'boston_avg'))"
   ]
  },
  {
   "cell_type": "code",
   "execution_count": 24,
   "metadata": {},
   "outputs": [
    {
     "data": {
      "text/html": [
       "<div>\n",
       "<style scoped>\n",
       "    .dataframe tbody tr th:only-of-type {\n",
       "        vertical-align: middle;\n",
       "    }\n",
       "\n",
       "    .dataframe tbody tr th {\n",
       "        vertical-align: top;\n",
       "    }\n",
       "\n",
       "    .dataframe thead th {\n",
       "        text-align: right;\n",
       "    }\n",
       "</style>\n",
       "<table border=\"1\" class=\"dataframe\">\n",
       "  <thead>\n",
       "    <tr style=\"text-align: right;\">\n",
       "      <th></th>\n",
       "      <th>year</th>\n",
       "      <th>global_avg</th>\n",
       "      <th>boston_avg</th>\n",
       "      <th>global_MA</th>\n",
       "      <th>boston_MA</th>\n",
       "    </tr>\n",
       "  </thead>\n",
       "  <tbody>\n",
       "    <tr>\n",
       "      <th>263</th>\n",
       "      <td>2013</td>\n",
       "      <td>9.61</td>\n",
       "      <td>10.38</td>\n",
       "      <td>9.0376</td>\n",
       "      <td>8.2378</td>\n",
       "    </tr>\n",
       "    <tr>\n",
       "      <th>262</th>\n",
       "      <td>2012</td>\n",
       "      <td>9.51</td>\n",
       "      <td>10.06</td>\n",
       "      <td>9.0226</td>\n",
       "      <td>8.1790</td>\n",
       "    </tr>\n",
       "    <tr>\n",
       "      <th>248</th>\n",
       "      <td>1998</td>\n",
       "      <td>9.52</td>\n",
       "      <td>9.63</td>\n",
       "      <td>8.7822</td>\n",
       "      <td>8.0030</td>\n",
       "    </tr>\n",
       "    <tr>\n",
       "      <th>260</th>\n",
       "      <td>2010</td>\n",
       "      <td>9.70</td>\n",
       "      <td>9.58</td>\n",
       "      <td>8.9930</td>\n",
       "      <td>8.0960</td>\n",
       "    </tr>\n",
       "    <tr>\n",
       "      <th>256</th>\n",
       "      <td>2006</td>\n",
       "      <td>9.53</td>\n",
       "      <td>9.48</td>\n",
       "      <td>8.9218</td>\n",
       "      <td>8.0438</td>\n",
       "    </tr>\n",
       "    <tr>\n",
       "      <th>203</th>\n",
       "      <td>1953</td>\n",
       "      <td>8.87</td>\n",
       "      <td>9.33</td>\n",
       "      <td>8.4990</td>\n",
       "      <td>7.6728</td>\n",
       "    </tr>\n",
       "    <tr>\n",
       "      <th>199</th>\n",
       "      <td>1949</td>\n",
       "      <td>8.59</td>\n",
       "      <td>9.30</td>\n",
       "      <td>8.4800</td>\n",
       "      <td>7.5932</td>\n",
       "    </tr>\n",
       "    <tr>\n",
       "      <th>249</th>\n",
       "      <td>1999</td>\n",
       "      <td>9.29</td>\n",
       "      <td>9.30</td>\n",
       "      <td>8.7962</td>\n",
       "      <td>8.0030</td>\n",
       "    </tr>\n",
       "    <tr>\n",
       "      <th>240</th>\n",
       "      <td>1990</td>\n",
       "      <td>9.23</td>\n",
       "      <td>9.20</td>\n",
       "      <td>8.7198</td>\n",
       "      <td>7.9494</td>\n",
       "    </tr>\n",
       "    <tr>\n",
       "      <th>261</th>\n",
       "      <td>2011</td>\n",
       "      <td>9.52</td>\n",
       "      <td>9.12</td>\n",
       "      <td>9.0074</td>\n",
       "      <td>8.1196</td>\n",
       "    </tr>\n",
       "    <tr>\n",
       "      <th>241</th>\n",
       "      <td>1991</td>\n",
       "      <td>9.18</td>\n",
       "      <td>9.08</td>\n",
       "      <td>8.7280</td>\n",
       "      <td>7.9678</td>\n",
       "    </tr>\n",
       "    <tr>\n",
       "      <th>252</th>\n",
       "      <td>2002</td>\n",
       "      <td>9.57</td>\n",
       "      <td>9.02</td>\n",
       "      <td>8.8470</td>\n",
       "      <td>8.0276</td>\n",
       "    </tr>\n",
       "    <tr>\n",
       "      <th>223</th>\n",
       "      <td>1973</td>\n",
       "      <td>8.95</td>\n",
       "      <td>8.97</td>\n",
       "      <td>8.6432</td>\n",
       "      <td>7.8538</td>\n",
       "    </tr>\n",
       "    <tr>\n",
       "      <th>251</th>\n",
       "      <td>2001</td>\n",
       "      <td>9.41</td>\n",
       "      <td>8.91</td>\n",
       "      <td>8.8284</td>\n",
       "      <td>8.0188</td>\n",
       "    </tr>\n",
       "    <tr>\n",
       "      <th>181</th>\n",
       "      <td>1931</td>\n",
       "      <td>8.72</td>\n",
       "      <td>8.74</td>\n",
       "      <td>8.2648</td>\n",
       "      <td>7.3254</td>\n",
       "    </tr>\n",
       "  </tbody>\n",
       "</table>\n",
       "</div>"
      ],
      "text/plain": [
       "     year  global_avg  boston_avg  global_MA  boston_MA\n",
       "263  2013        9.61       10.38     9.0376     8.2378\n",
       "262  2012        9.51       10.06     9.0226     8.1790\n",
       "248  1998        9.52        9.63     8.7822     8.0030\n",
       "260  2010        9.70        9.58     8.9930     8.0960\n",
       "256  2006        9.53        9.48     8.9218     8.0438\n",
       "203  1953        8.87        9.33     8.4990     7.6728\n",
       "199  1949        8.59        9.30     8.4800     7.5932\n",
       "249  1999        9.29        9.30     8.7962     8.0030\n",
       "240  1990        9.23        9.20     8.7198     7.9494\n",
       "261  2011        9.52        9.12     9.0074     8.1196\n",
       "241  1991        9.18        9.08     8.7280     7.9678\n",
       "252  2002        9.57        9.02     8.8470     8.0276\n",
       "223  1973        8.95        8.97     8.6432     7.8538\n",
       "251  2001        9.41        8.91     8.8284     8.0188\n",
       "181  1931        8.72        8.74     8.2648     7.3254"
      ]
     },
     "execution_count": 24,
     "metadata": {},
     "output_type": "execute_result"
    }
   ],
   "source": [
    "boston_top15"
   ]
  },
  {
   "cell_type": "code",
   "execution_count": 25,
   "metadata": {},
   "outputs": [
    {
     "data": {
      "text/html": [
       "<div>\n",
       "<style scoped>\n",
       "    .dataframe tbody tr th:only-of-type {\n",
       "        vertical-align: middle;\n",
       "    }\n",
       "\n",
       "    .dataframe tbody tr th {\n",
       "        vertical-align: top;\n",
       "    }\n",
       "\n",
       "    .dataframe thead th {\n",
       "        text-align: right;\n",
       "    }\n",
       "</style>\n",
       "<table border=\"1\" class=\"dataframe\">\n",
       "  <thead>\n",
       "    <tr style=\"text-align: right;\">\n",
       "      <th></th>\n",
       "      <th>year</th>\n",
       "      <th>global_avg</th>\n",
       "      <th>boston_avg</th>\n",
       "      <th>global_MA</th>\n",
       "      <th>boston_MA</th>\n",
       "    </tr>\n",
       "  </thead>\n",
       "  <tbody>\n",
       "    <tr>\n",
       "      <th>257</th>\n",
       "      <td>2007</td>\n",
       "      <td>9.73</td>\n",
       "      <td>8.36</td>\n",
       "      <td>8.9418</td>\n",
       "      <td>8.0408</td>\n",
       "    </tr>\n",
       "    <tr>\n",
       "      <th>255</th>\n",
       "      <td>2005</td>\n",
       "      <td>9.70</td>\n",
       "      <td>8.56</td>\n",
       "      <td>8.8968</td>\n",
       "      <td>8.0032</td>\n",
       "    </tr>\n",
       "    <tr>\n",
       "      <th>260</th>\n",
       "      <td>2010</td>\n",
       "      <td>9.70</td>\n",
       "      <td>9.58</td>\n",
       "      <td>8.9930</td>\n",
       "      <td>8.0960</td>\n",
       "    </tr>\n",
       "    <tr>\n",
       "      <th>263</th>\n",
       "      <td>2013</td>\n",
       "      <td>9.61</td>\n",
       "      <td>10.38</td>\n",
       "      <td>9.0376</td>\n",
       "      <td>8.2378</td>\n",
       "    </tr>\n",
       "    <tr>\n",
       "      <th>252</th>\n",
       "      <td>2002</td>\n",
       "      <td>9.57</td>\n",
       "      <td>9.02</td>\n",
       "      <td>8.8470</td>\n",
       "      <td>8.0276</td>\n",
       "    </tr>\n",
       "    <tr>\n",
       "      <th>253</th>\n",
       "      <td>2003</td>\n",
       "      <td>9.53</td>\n",
       "      <td>7.78</td>\n",
       "      <td>8.8602</td>\n",
       "      <td>7.9966</td>\n",
       "    </tr>\n",
       "    <tr>\n",
       "      <th>256</th>\n",
       "      <td>2006</td>\n",
       "      <td>9.53</td>\n",
       "      <td>9.48</td>\n",
       "      <td>8.9218</td>\n",
       "      <td>8.0438</td>\n",
       "    </tr>\n",
       "    <tr>\n",
       "      <th>248</th>\n",
       "      <td>1998</td>\n",
       "      <td>9.52</td>\n",
       "      <td>9.63</td>\n",
       "      <td>8.7822</td>\n",
       "      <td>8.0030</td>\n",
       "    </tr>\n",
       "    <tr>\n",
       "      <th>261</th>\n",
       "      <td>2011</td>\n",
       "      <td>9.52</td>\n",
       "      <td>9.12</td>\n",
       "      <td>9.0074</td>\n",
       "      <td>8.1196</td>\n",
       "    </tr>\n",
       "    <tr>\n",
       "      <th>259</th>\n",
       "      <td>2009</td>\n",
       "      <td>9.51</td>\n",
       "      <td>8.07</td>\n",
       "      <td>8.9706</td>\n",
       "      <td>8.0606</td>\n",
       "    </tr>\n",
       "    <tr>\n",
       "      <th>262</th>\n",
       "      <td>2012</td>\n",
       "      <td>9.51</td>\n",
       "      <td>10.06</td>\n",
       "      <td>9.0226</td>\n",
       "      <td>8.1790</td>\n",
       "    </tr>\n",
       "    <tr>\n",
       "      <th>30</th>\n",
       "      <td>1780</td>\n",
       "      <td>9.43</td>\n",
       "      <td>7.26</td>\n",
       "      <td>NaN</td>\n",
       "      <td>NaN</td>\n",
       "    </tr>\n",
       "    <tr>\n",
       "      <th>258</th>\n",
       "      <td>2008</td>\n",
       "      <td>9.43</td>\n",
       "      <td>8.53</td>\n",
       "      <td>8.9550</td>\n",
       "      <td>8.0674</td>\n",
       "    </tr>\n",
       "    <tr>\n",
       "      <th>251</th>\n",
       "      <td>2001</td>\n",
       "      <td>9.41</td>\n",
       "      <td>8.91</td>\n",
       "      <td>8.8284</td>\n",
       "      <td>8.0188</td>\n",
       "    </tr>\n",
       "    <tr>\n",
       "      <th>245</th>\n",
       "      <td>1995</td>\n",
       "      <td>9.35</td>\n",
       "      <td>8.13</td>\n",
       "      <td>8.7516</td>\n",
       "      <td>7.9728</td>\n",
       "    </tr>\n",
       "  </tbody>\n",
       "</table>\n",
       "</div>"
      ],
      "text/plain": [
       "     year  global_avg  boston_avg  global_MA  boston_MA\n",
       "257  2007        9.73        8.36     8.9418     8.0408\n",
       "255  2005        9.70        8.56     8.8968     8.0032\n",
       "260  2010        9.70        9.58     8.9930     8.0960\n",
       "263  2013        9.61       10.38     9.0376     8.2378\n",
       "252  2002        9.57        9.02     8.8470     8.0276\n",
       "253  2003        9.53        7.78     8.8602     7.9966\n",
       "256  2006        9.53        9.48     8.9218     8.0438\n",
       "248  1998        9.52        9.63     8.7822     8.0030\n",
       "261  2011        9.52        9.12     9.0074     8.1196\n",
       "259  2009        9.51        8.07     8.9706     8.0606\n",
       "262  2012        9.51       10.06     9.0226     8.1790\n",
       "30   1780        9.43        7.26        NaN        NaN\n",
       "258  2008        9.43        8.53     8.9550     8.0674\n",
       "251  2001        9.41        8.91     8.8284     8.0188\n",
       "245  1995        9.35        8.13     8.7516     7.9728"
      ]
     },
     "execution_count": 25,
     "metadata": {},
     "output_type": "execute_result"
    }
   ],
   "source": [
    "global_top15"
   ]
  },
  {
   "cell_type": "code",
   "execution_count": 26,
   "metadata": {},
   "outputs": [
    {
     "data": {
      "text/html": [
       "<div>\n",
       "<style scoped>\n",
       "    .dataframe tbody tr th:only-of-type {\n",
       "        vertical-align: middle;\n",
       "    }\n",
       "\n",
       "    .dataframe tbody tr th {\n",
       "        vertical-align: top;\n",
       "    }\n",
       "\n",
       "    .dataframe thead th {\n",
       "        text-align: right;\n",
       "    }\n",
       "</style>\n",
       "<table border=\"1\" class=\"dataframe\">\n",
       "  <thead>\n",
       "    <tr style=\"text-align: right;\">\n",
       "      <th></th>\n",
       "      <th>year</th>\n",
       "      <th>global_avg</th>\n",
       "      <th>boston_avg</th>\n",
       "      <th>global_MA</th>\n",
       "      <th>boston_MA</th>\n",
       "    </tr>\n",
       "  </thead>\n",
       "  <tbody>\n",
       "    <tr>\n",
       "      <th>262</th>\n",
       "      <td>2012</td>\n",
       "      <td>9.51</td>\n",
       "      <td>10.06</td>\n",
       "      <td>9.0226</td>\n",
       "      <td>8.1790</td>\n",
       "    </tr>\n",
       "    <tr>\n",
       "      <th>248</th>\n",
       "      <td>1998</td>\n",
       "      <td>9.52</td>\n",
       "      <td>9.63</td>\n",
       "      <td>8.7822</td>\n",
       "      <td>8.0030</td>\n",
       "    </tr>\n",
       "    <tr>\n",
       "      <th>260</th>\n",
       "      <td>2010</td>\n",
       "      <td>9.70</td>\n",
       "      <td>9.58</td>\n",
       "      <td>8.9930</td>\n",
       "      <td>8.0960</td>\n",
       "    </tr>\n",
       "    <tr>\n",
       "      <th>256</th>\n",
       "      <td>2006</td>\n",
       "      <td>9.53</td>\n",
       "      <td>9.48</td>\n",
       "      <td>8.9218</td>\n",
       "      <td>8.0438</td>\n",
       "    </tr>\n",
       "    <tr>\n",
       "      <th>261</th>\n",
       "      <td>2011</td>\n",
       "      <td>9.52</td>\n",
       "      <td>9.12</td>\n",
       "      <td>9.0074</td>\n",
       "      <td>8.1196</td>\n",
       "    </tr>\n",
       "    <tr>\n",
       "      <th>255</th>\n",
       "      <td>2005</td>\n",
       "      <td>9.70</td>\n",
       "      <td>8.56</td>\n",
       "      <td>8.8968</td>\n",
       "      <td>8.0032</td>\n",
       "    </tr>\n",
       "    <tr>\n",
       "      <th>258</th>\n",
       "      <td>2008</td>\n",
       "      <td>9.43</td>\n",
       "      <td>8.53</td>\n",
       "      <td>8.9550</td>\n",
       "      <td>8.0674</td>\n",
       "    </tr>\n",
       "    <tr>\n",
       "      <th>259</th>\n",
       "      <td>2009</td>\n",
       "      <td>9.51</td>\n",
       "      <td>8.07</td>\n",
       "      <td>8.9706</td>\n",
       "      <td>8.0606</td>\n",
       "    </tr>\n",
       "    <tr>\n",
       "      <th>253</th>\n",
       "      <td>2003</td>\n",
       "      <td>9.53</td>\n",
       "      <td>7.78</td>\n",
       "      <td>8.8602</td>\n",
       "      <td>7.9966</td>\n",
       "    </tr>\n",
       "    <tr>\n",
       "      <th>30</th>\n",
       "      <td>1780</td>\n",
       "      <td>9.43</td>\n",
       "      <td>7.26</td>\n",
       "      <td>NaN</td>\n",
       "      <td>NaN</td>\n",
       "    </tr>\n",
       "    <tr>\n",
       "      <th>257</th>\n",
       "      <td>2007</td>\n",
       "      <td>9.73</td>\n",
       "      <td>8.36</td>\n",
       "      <td>8.9418</td>\n",
       "      <td>8.0408</td>\n",
       "    </tr>\n",
       "    <tr>\n",
       "      <th>263</th>\n",
       "      <td>2013</td>\n",
       "      <td>9.61</td>\n",
       "      <td>10.38</td>\n",
       "      <td>9.0376</td>\n",
       "      <td>8.2378</td>\n",
       "    </tr>\n",
       "    <tr>\n",
       "      <th>252</th>\n",
       "      <td>2002</td>\n",
       "      <td>9.57</td>\n",
       "      <td>9.02</td>\n",
       "      <td>8.8470</td>\n",
       "      <td>8.0276</td>\n",
       "    </tr>\n",
       "    <tr>\n",
       "      <th>251</th>\n",
       "      <td>2001</td>\n",
       "      <td>9.41</td>\n",
       "      <td>8.91</td>\n",
       "      <td>8.8284</td>\n",
       "      <td>8.0188</td>\n",
       "    </tr>\n",
       "    <tr>\n",
       "      <th>245</th>\n",
       "      <td>1995</td>\n",
       "      <td>9.35</td>\n",
       "      <td>8.13</td>\n",
       "      <td>8.7516</td>\n",
       "      <td>7.9728</td>\n",
       "    </tr>\n",
       "  </tbody>\n",
       "</table>\n",
       "</div>"
      ],
      "text/plain": [
       "     year  global_avg  boston_avg  global_MA  boston_MA\n",
       "262  2012        9.51       10.06     9.0226     8.1790\n",
       "248  1998        9.52        9.63     8.7822     8.0030\n",
       "260  2010        9.70        9.58     8.9930     8.0960\n",
       "256  2006        9.53        9.48     8.9218     8.0438\n",
       "261  2011        9.52        9.12     9.0074     8.1196\n",
       "255  2005        9.70        8.56     8.8968     8.0032\n",
       "258  2008        9.43        8.53     8.9550     8.0674\n",
       "259  2009        9.51        8.07     8.9706     8.0606\n",
       "253  2003        9.53        7.78     8.8602     7.9966\n",
       "30   1780        9.43        7.26        NaN        NaN\n",
       "257  2007        9.73        8.36     8.9418     8.0408\n",
       "263  2013        9.61       10.38     9.0376     8.2378\n",
       "252  2002        9.57        9.02     8.8470     8.0276\n",
       "251  2001        9.41        8.91     8.8284     8.0188\n",
       "245  1995        9.35        8.13     8.7516     7.9728"
      ]
     },
     "execution_count": 26,
     "metadata": {},
     "output_type": "execute_result"
    }
   ],
   "source": [
    "global_boston_top15"
   ]
  },
  {
   "cell_type": "code",
   "execution_count": 33,
   "metadata": {},
   "outputs": [
    {
     "data": {
      "image/png": "[encoded data removed]",
      "text/plain": [
       "<Figure size 1120x640 with 1 Axes>"
      ]
     },
     "metadata": {},
     "output_type": "display_data"
    }
   ],
   "source": [
    "#plot both the moving averages for comparison \n",
    "import matplotlib.pyplot as plt\n",
    "from matplotlib.pyplot import figure\n",
    "\n",
    "figure(num=None, figsize=(14, 8), dpi=80, facecolor='w', edgecolor='k')\n",
    "year = data['year']\n",
    "boston = data['boston_MA']\n",
    "global_ = data['global_MA']\n",
    "\n",
    "plt.plot(year, boston, color='b')\n",
    "plt.plot(year, global_, color='r')\n",
    "\n",
    "plt.legend()\n",
    "plt.xlabel('YEAR')\n",
    "plt.ylabel('TEMPERATURE MOVING AVG')\n",
    "plt.title('MOVING AVG - BOSTON VS GLOBAL')\n",
    "plt.show()"
   ]
  },
  {
   "cell_type": "code",
   "execution_count": 28,
   "metadata": {},
   "outputs": [],
   "source": [
    "data['diff_MA'] = data['global_MA']-data['boston_MA']"
   ]
  },
  {
   "cell_type": "code",
   "execution_count": 29,
   "metadata": {},
   "outputs": [
    {
     "data": {
      "image/png": "[encoded data removed]",
      "text/plain": [
       "<Figure size 1120x640 with 1 Axes>"
      ]
     },
     "metadata": {},
     "output_type": "display_data"
    }
   ],
   "source": [
    "#plot both the difference in moving averages for comparison \n",
    "figure(num=None, figsize=(14, 8), dpi=80, facecolor='w', edgecolor='k')\n",
    "year = data['year']\n",
    "moving_diff = data['diff_MA']\n",
    "\n",
    "plt.plot(year, moving_diff, color='b')\n",
    "plt.legend()\n",
    "plt.xlabel('YEAR')\n",
    "plt.ylabel('MOVING AVG DIFF')\n",
    "plt.title('Difference in moving average')\n",
    "plt.show()"
   ]
  },
  {
   "cell_type": "code",
   "execution_count": 30,
   "metadata": {},
   "outputs": [
    {
     "data": {
      "image/png": "[encoded data removed]",
      "text/plain": [
       "<Figure size 1008x576 with 1 Axes>"
      ]
     },
     "metadata": {
      "needs_background": "light"
     },
     "output_type": "display_data"
    }
   ],
   "source": [
    "#plot both the difference in moving averages for comparison \n",
    "figure(num=None, figsize=(14, 8))\n",
    "year = data['year']\n",
    "avg = data['global_avg']\n",
    "#avg_b = data['boston_avg']\n",
    "mean_avg_temp = [np.mean(avg)]*len(year)\n",
    "\n",
    "plt.plot(year, avg, color='b')\n",
    "plt.plot(year, mean_avg_temp, color='black')\n",
    "#plt.plot(year, avg_b, color='r')\n",
    "plt.legend()\n",
    "plt.xlabel('YEAR')\n",
    "plt.ylabel('Average temperature')\n",
    "plt.title('Global average temperature compared to the overall mean')\n",
    "plt.show()"
   ]
  },
  {
   "cell_type": "code",
   "execution_count": 31,
   "metadata": {},
   "outputs": [],
   "source": [
    "#correlation coefficient between boston avg temperature and global avg temperature\n",
    "correlation_coef = np.corrcoef(data['boston_avg'], data['global_avg'])"
   ]
  },
  {
   "cell_type": "code",
   "execution_count": 32,
   "metadata": {},
   "outputs": [
    {
     "data": {
      "text/plain": [
       "array([[1.        , 0.57389172],\n",
       "       [0.57389172, 1.        ]])"
      ]
     },
     "execution_count": 32,
     "metadata": {},
     "output_type": "execute_result"
    }
   ],
   "source": [
    "correlation_coef"
   ]
  },
  {
   "cell_type": "markdown",
   "metadata": {},
   "source": [
    "Observations from the above plots and  -\n",
    "1. Boston, being closer to the Atlantic experiences comparitively colder temperatures than the global average temperature (reference from overall average global temperature and overall average temperature in Boston)\n",
    "2. The difference in the 50 years moving average globally vs that in Boston is decreasing since the begining of the 20th century and has reduced even more at the start of 21st century\n",
    "3. The average gobal temperature is rising and a similar trend is observed in the average temperature in Boston\n",
    "4. 7 of the 15 most avg warmest years in Boston are in the 21st century, whereas 12 of the 15 most warmest years experienced globally are in the 21st century\n",
    "5. Global average temperature has been higher than the average global temperature from the mid 20th century and has been increasing since then\n",
    "\n",
    "Further, we can use linear regression to find the average temperature in Boston using regression"
   ]
  }
 ],
 "metadata": {
  "kernelspec": {
   "display_name": "Python 3",
   "language": "python",
   "name": "python3"
  },
  "language_info": {
   "codemirror_mode": {
    "name": "ipython",
    "version": 3
   },
   "file_extension": ".py",
   "mimetype": "text/x-python",
   "name": "python",
   "nbconvert_exporter": "python",
   "pygments_lexer": "ipython3",
   "version": "3.7.0"
  }
 },
 "nbformat": 4,
 "nbformat_minor": 2
}
